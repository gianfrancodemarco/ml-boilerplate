{
 "cells": [
  {
   "cell_type": "code",
   "execution_count": 1,
   "metadata": {},
   "outputs": [],
   "source": [
    "import os\n",
    "import cv2\n",
    "from shapely.geometry import Polygon\n",
    "\n",
    "from src import utils\n",
    "import src\n",
    "from src.data.annotations.coco_annotations_manager import \\\n",
    "    CocoAnnotationsManager\n",
    "from src.visualization.image_visualizer import show_image\n",
    "from src.data.augmentation import ImagesTemplatesManager\n",
    "\n",
    "\n",
    "ANNOTATIONS_PATH = os.path.join(utils.DATA_PATH, 'annotations', 'annotations.json')\n",
    "TEMPLATES_CONFIG_PATH = os.path.join(utils.DATA_PATH, 'annotations', 'templates.json')\n",
    "\n",
    "CARD_IMAGES_PATH = os.path.join(utils.DATA_PATH, 'raw', 'templates')\n",
    "IMAGE_NAME = '1.jpeg'\n",
    "\n",
    "annotations_manager = CocoAnnotationsManager(ANNOTATIONS_PATH)\n",
    "image_templates_manager = ImagesTemplatesManager(\n",
    "    templates_config_path=TEMPLATES_CONFIG_PATH,\n",
    "    annotation_manager=annotations_manager,\n",
    ")"
   ]
  },
  {
   "cell_type": "code",
   "execution_count": 2,
   "metadata": {},
   "outputs": [
    {
     "data": {
      "text/plain": [
       "<src.data.augmentation.ImagesTemplatesManager at 0x7f10e0abee20>"
      ]
     },
     "execution_count": 2,
     "metadata": {},
     "output_type": "execute_result"
    }
   ],
   "source": []
  }
 ],
 "metadata": {
  "kernelspec": {
   "display_name": "Python 3 (ipykernel)",
   "language": "python",
   "name": "python3"
  },
  "language_info": {
   "codemirror_mode": {
    "name": "ipython",
    "version": 3
   },
   "file_extension": ".py",
   "mimetype": "text/x-python",
   "name": "python",
   "nbconvert_exporter": "python",
   "pygments_lexer": "ipython3",
   "version": "3.8.10"
  },
  "vscode": {
   "interpreter": {
    "hash": "73e315eb3ba05f640bb38e80b728208788797424496aa912caeb319598b60bab"
   }
  }
 },
 "nbformat": 4,
 "nbformat_minor": 2
}
